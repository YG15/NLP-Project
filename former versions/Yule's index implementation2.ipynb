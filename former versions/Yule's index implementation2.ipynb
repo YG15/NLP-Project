{
 "cells": [
  {
   "cell_type": "code",
   "execution_count": 1,
   "metadata": {
    "collapsed": true
   },
   "outputs": [],
   "source": [
    "def yules_ind(entry):\n",
    "    \"\"\"\n",
    "    This function recieves a string (text) and computes its Yule's K and I\n",
    "    Indices.\n",
    "    the function is partialy based on Swizec Teller's blog post:\n",
    "    \"https://swizec.com/blog/measuring-vocabulary-richness-with-python/swizec/2528\"\n",
    "    \"\"\"\n",
    "    from nltk.stem.porter import PorterStemmer\n",
    "    from itertools import groupby\n",
    "    from collections import defaultdict\n",
    "    import logging\n",
    "    from termcolor import colored\n",
    "    import sys\n",
    "    \n",
    "    def words(entry): # clean text from unnecessary characters\n",
    "        return filter(lambda w: len(w),\n",
    "                      [w.strip(\"0123456789!:,.?(){}[]\") for w in entry.split()]) \n",
    "\n",
    "    def yule_param(entry): # stemm the text and creates a dictionary with counts of each word\n",
    "        if len(entry.split())>2: #do it only if the text has more than 2 words\n",
    "            stemmer = PorterStemmer()\n",
    "            entry_dic = defaultdict(int)\n",
    "            for w in words(entry):\n",
    "                w = stemmer.stem(w).lower()\n",
    "                entry_dic[w] +=1\n",
    "            \n",
    "            s1 = len(entry_dic)\n",
    "            s2 = 0\n",
    "            \n",
    "            for i in range(1,max(entry_dic.values())+1):\n",
    "                s2_iter=(i**2)*sum(1 for x in entry_dic.values() if x==i)\n",
    "                s2 += s2_iter\n",
    "            yule_K = (10**4)*((s2-s1)/(s1**2)) # original Yule's K indices- The lower the index, the higher LD of the text\n",
    "            yule_I = 1/((s2-s1)/(s1**2))       # The inverse of Yule's K indices- more intuitive, The bigger the index, \n",
    "                                               ### the higher LD of the text\n",
    "            return (round(yule_K,2),round(yule_I,2))  \n",
    "        \n",
    "        # If the text is 2 words and shorter, it publish a warning message and puts Nones in the indices\n",
    "        else:\n",
    "            print (colored(\"Warning: Text needs to to br longer than 2 words in order to have Lexical Diversity index\",'red'))\n",
    "            yule_K = None\n",
    "            yule_I = None\n",
    "            return (yule_K,yule_I)\n",
    "    \n",
    "    yule_K, yule_I = yule_param(entry)\n",
    "    \n",
    "    return (yule_I,yule_K) "
   ]
  },
  {
   "cell_type": "code",
   "execution_count": 2,
   "metadata": {
    "collapsed": true
   },
   "outputs": [],
   "source": [
    "if __name__ == \"__main__\":\n",
    "    # different types of text: #1: Youth book, #2: Pop song, #3: Academic paper, All 45-48 words\n",
    "\n",
    "\n",
    "    entry0='' #test exception\n",
    "    entry1 = 'Mr. and Mrs. Dursley, of number four,\\\n",
    "            Privet Drive, were proud to say that they were perfectly normal,\\\n",
    "            thank you very much. They were the last people you’d expect to be\\\n",
    "            involved in anything strange or mysterious, because they just\\\n",
    "            didn’t hold with such nonsense.'\n",
    "    entry2 ='It was twenty years ago today\\\n",
    "            Sgt. Pepper taught the band to play\\\n",
    "            They\\'ve been going in and out of style\\\n",
    "            But they\\'re guaranteed to raise a smile\\\n",
    "            So may I introduce to you\\\n",
    "            The act you\\'ve known for all these years\\\n",
    "            Sgt. Pepper\\'s Lonely Hearts Club Band'\n",
    "    entry3 ='In recent years the use of species distribution models by ecologists\\\n",
    "            and conservation managers has increased considerably, along with an\\\n",
    "            awareness of the need to provide accuracy assessment for predictions\\\n",
    "            of such models. The kappa statistic is the most widely used measure for\\\n",
    "            the performance of models'"
   ]
  },
  {
   "cell_type": "code",
   "execution_count": 3,
   "metadata": {},
   "outputs": [
    {
     "name": "stdout",
     "output_type": "stream",
     "text": [
      "The text which starts with the words: \" In recent years the  \", has a Yule's K inex of  24.45 , and a Yule's I index of  408.95\n",
      "The text which starts with the words: \" It was twenty years  \", has a Yule's K inex of  88.2 , and a Yule's I index of  113.38\n",
      "The text which starts with the words: \" Mr. and Mrs. Dursley \", has a Yule's K inex of  69.14 , and a Yule's I index of  144.64\n",
      "\u001b[31mWarning: Text needs to have more than 2 words in order to calculate Lexical Diversity\u001b[0m\n",
      "The text which starts with the words: \"  \", has a Yule's K inex of  None , and a Yule's I index of  None\n"
     ]
    }
   ],
   "source": [
    "    #test texts\n",
    "    entries =[\"entry\" + str(i) for i in range(0,4)] #create a list of the entries\n",
    "\n",
    "    #test each element in the list\n",
    "    for entry in entries[::-1]:\n",
    "        yules = yules_ind(eval(entry))\n",
    "        print('The text which starts with the words: \\\"',eval(entry)[0:20],'\\\", has a Yule\\'s K inex of ',yules[0],\\\n",
    "             \", and a Yule's I index of \",yules[1])"
   ]
  }
 ],
 "metadata": {
  "kernelspec": {
   "display_name": "Python 3",
   "language": "python",
   "name": "python3"
  },
  "language_info": {
   "codemirror_mode": {
    "name": "ipython",
    "version": 3
   },
   "file_extension": ".py",
   "mimetype": "text/x-python",
   "name": "python",
   "nbconvert_exporter": "python",
   "pygments_lexer": "ipython3",
   "version": "3.6.1"
  }
 },
 "nbformat": 4,
 "nbformat_minor": 2
}
